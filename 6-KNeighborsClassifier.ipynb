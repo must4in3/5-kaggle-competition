{
 "cells": [
  {
   "cell_type": "code",
   "execution_count": 1,
   "metadata": {},
   "outputs": [],
   "source": [
    "import pandas as pd\n",
    "import matplotlib.pyplot as plt\n",
    "import seaborn as sns\n",
    "import numpy as np"
   ]
  },
  {
   "cell_type": "code",
   "execution_count": 2,
   "metadata": {},
   "outputs": [],
   "source": [
    "diamonds_train = pd.read_csv('outputs/df_train.csv')\n",
    "diamonds_train_price = pd.read_csv('outputs/df_train_price.csv')\n",
    "diamonds_predict=pd.read_csv('outputs/df_test.csv')\n",
    "submit=pd.read_csv('inputs/sample_submission.csv')"
   ]
  },
  {
   "cell_type": "code",
   "execution_count": 3,
   "metadata": {},
   "outputs": [
    {
     "data": {
      "text/html": [
       "<div>\n",
       "<style scoped>\n",
       "    .dataframe tbody tr th:only-of-type {\n",
       "        vertical-align: middle;\n",
       "    }\n",
       "\n",
       "    .dataframe tbody tr th {\n",
       "        vertical-align: top;\n",
       "    }\n",
       "\n",
       "    .dataframe thead th {\n",
       "        text-align: right;\n",
       "    }\n",
       "</style>\n",
       "<table border=\"1\" class=\"dataframe\">\n",
       "  <thead>\n",
       "    <tr style=\"text-align: right;\">\n",
       "      <th></th>\n",
       "      <th>carat</th>\n",
       "      <th>cut_numeric</th>\n",
       "      <th>color_numeric</th>\n",
       "      <th>clarity_numeric</th>\n",
       "      <th>depth</th>\n",
       "      <th>table</th>\n",
       "      <th>x</th>\n",
       "      <th>y</th>\n",
       "      <th>z</th>\n",
       "    </tr>\n",
       "  </thead>\n",
       "  <tbody>\n",
       "    <tr>\n",
       "      <th>0</th>\n",
       "      <td>-1.051355</td>\n",
       "      <td>-0.810564</td>\n",
       "      <td>0.352161</td>\n",
       "      <td>-0.033632</td>\n",
       "      <td>0.736126</td>\n",
       "      <td>-0.650176</td>\n",
       "      <td>-1.283716</td>\n",
       "      <td>-1.236438</td>\n",
       "      <td>-1.180531</td>\n",
       "    </tr>\n",
       "    <tr>\n",
       "      <th>1</th>\n",
       "      <td>-0.966764</td>\n",
       "      <td>0.982588</td>\n",
       "      <td>0.940769</td>\n",
       "      <td>-0.641579</td>\n",
       "      <td>0.596363</td>\n",
       "      <td>-1.097476</td>\n",
       "      <td>-1.132102</td>\n",
       "      <td>-1.080061</td>\n",
       "      <td>-1.039596</td>\n",
       "    </tr>\n",
       "    <tr>\n",
       "      <th>2</th>\n",
       "      <td>-0.839879</td>\n",
       "      <td>-0.810564</td>\n",
       "      <td>1.529377</td>\n",
       "      <td>-0.641579</td>\n",
       "      <td>-1.010919</td>\n",
       "      <td>2.033618</td>\n",
       "      <td>-0.918059</td>\n",
       "      <td>-0.854183</td>\n",
       "      <td>-0.969129</td>\n",
       "    </tr>\n",
       "    <tr>\n",
       "      <th>3</th>\n",
       "      <td>-0.839879</td>\n",
       "      <td>0.086012</td>\n",
       "      <td>-0.825055</td>\n",
       "      <td>0.574315</td>\n",
       "      <td>0.037308</td>\n",
       "      <td>0.781181</td>\n",
       "      <td>-0.900222</td>\n",
       "      <td>-0.862870</td>\n",
       "      <td>-0.870475</td>\n",
       "    </tr>\n",
       "    <tr>\n",
       "      <th>4</th>\n",
       "      <td>0.217504</td>\n",
       "      <td>-0.810564</td>\n",
       "      <td>1.529377</td>\n",
       "      <td>-0.641579</td>\n",
       "      <td>-0.521746</td>\n",
       "      <td>2.480917</td>\n",
       "      <td>0.330526</td>\n",
       "      <td>0.344710</td>\n",
       "      <td>0.271096</td>\n",
       "    </tr>\n",
       "  </tbody>\n",
       "</table>\n",
       "</div>"
      ],
      "text/plain": [
       "      carat  cut_numeric  color_numeric  clarity_numeric     depth     table  \\\n",
       "0 -1.051355    -0.810564       0.352161        -0.033632  0.736126 -0.650176   \n",
       "1 -0.966764     0.982588       0.940769        -0.641579  0.596363 -1.097476   \n",
       "2 -0.839879    -0.810564       1.529377        -0.641579 -1.010919  2.033618   \n",
       "3 -0.839879     0.086012      -0.825055         0.574315  0.037308  0.781181   \n",
       "4  0.217504    -0.810564       1.529377        -0.641579 -0.521746  2.480917   \n",
       "\n",
       "          x         y         z  \n",
       "0 -1.283716 -1.236438 -1.180531  \n",
       "1 -1.132102 -1.080061 -1.039596  \n",
       "2 -0.918059 -0.854183 -0.969129  \n",
       "3 -0.900222 -0.862870 -0.870475  \n",
       "4  0.330526  0.344710  0.271096  "
      ]
     },
     "execution_count": 3,
     "metadata": {},
     "output_type": "execute_result"
    }
   ],
   "source": [
    "diamonds_train.head()"
   ]
  },
  {
   "cell_type": "code",
   "execution_count": 4,
   "metadata": {},
   "outputs": [
    {
     "data": {
      "text/html": [
       "<div>\n",
       "<style scoped>\n",
       "    .dataframe tbody tr th:only-of-type {\n",
       "        vertical-align: middle;\n",
       "    }\n",
       "\n",
       "    .dataframe tbody tr th {\n",
       "        vertical-align: top;\n",
       "    }\n",
       "\n",
       "    .dataframe thead th {\n",
       "        text-align: right;\n",
       "    }\n",
       "</style>\n",
       "<table border=\"1\" class=\"dataframe\">\n",
       "  <thead>\n",
       "    <tr style=\"text-align: right;\">\n",
       "      <th></th>\n",
       "      <th>carat</th>\n",
       "      <th>cut_numeric</th>\n",
       "      <th>color_numeric</th>\n",
       "      <th>clarity_numeric</th>\n",
       "      <th>depth</th>\n",
       "      <th>table</th>\n",
       "      <th>x</th>\n",
       "      <th>y</th>\n",
       "      <th>z</th>\n",
       "    </tr>\n",
       "  </thead>\n",
       "  <tbody>\n",
       "    <tr>\n",
       "      <th>0</th>\n",
       "      <td>3.267015</td>\n",
       "      <td>0.978152</td>\n",
       "      <td>-1.416151</td>\n",
       "      <td>-1.232414</td>\n",
       "      <td>-0.666318</td>\n",
       "      <td>-1.554540</td>\n",
       "      <td>2.620734</td>\n",
       "      <td>2.539800</td>\n",
       "      <td>2.446736</td>\n",
       "    </tr>\n",
       "    <tr>\n",
       "      <th>1</th>\n",
       "      <td>2.596725</td>\n",
       "      <td>0.978152</td>\n",
       "      <td>-0.830504</td>\n",
       "      <td>-1.232414</td>\n",
       "      <td>0.168508</td>\n",
       "      <td>-0.658049</td>\n",
       "      <td>2.175567</td>\n",
       "      <td>2.234832</td>\n",
       "      <td>2.230593</td>\n",
       "    </tr>\n",
       "    <tr>\n",
       "      <th>2</th>\n",
       "      <td>-0.608098</td>\n",
       "      <td>0.978152</td>\n",
       "      <td>-1.416151</td>\n",
       "      <td>-0.627731</td>\n",
       "      <td>-0.040199</td>\n",
       "      <td>-1.554540</td>\n",
       "      <td>-0.495431</td>\n",
       "      <td>-0.491942</td>\n",
       "      <td>-0.492811</td>\n",
       "    </tr>\n",
       "    <tr>\n",
       "      <th>3</th>\n",
       "      <td>-1.047976</td>\n",
       "      <td>0.978152</td>\n",
       "      <td>-1.416151</td>\n",
       "      <td>-0.627731</td>\n",
       "      <td>-0.318474</td>\n",
       "      <td>-0.658049</td>\n",
       "      <td>-1.261117</td>\n",
       "      <td>-1.263332</td>\n",
       "      <td>-1.285335</td>\n",
       "    </tr>\n",
       "    <tr>\n",
       "      <th>4</th>\n",
       "      <td>0.334497</td>\n",
       "      <td>-2.592365</td>\n",
       "      <td>-0.830504</td>\n",
       "      <td>-0.023048</td>\n",
       "      <td>4.899190</td>\n",
       "      <td>-0.658049</td>\n",
       "      <td>0.332578</td>\n",
       "      <td>0.216660</td>\n",
       "      <td>0.890505</td>\n",
       "    </tr>\n",
       "  </tbody>\n",
       "</table>\n",
       "</div>"
      ],
      "text/plain": [
       "      carat  cut_numeric  color_numeric  clarity_numeric     depth     table  \\\n",
       "0  3.267015     0.978152      -1.416151        -1.232414 -0.666318 -1.554540   \n",
       "1  2.596725     0.978152      -0.830504        -1.232414  0.168508 -0.658049   \n",
       "2 -0.608098     0.978152      -1.416151        -0.627731 -0.040199 -1.554540   \n",
       "3 -1.047976     0.978152      -1.416151        -0.627731 -0.318474 -0.658049   \n",
       "4  0.334497    -2.592365      -0.830504        -0.023048  4.899190 -0.658049   \n",
       "\n",
       "          x         y         z  \n",
       "0  2.620734  2.539800  2.446736  \n",
       "1  2.175567  2.234832  2.230593  \n",
       "2 -0.495431 -0.491942 -0.492811  \n",
       "3 -1.261117 -1.263332 -1.285335  \n",
       "4  0.332578  0.216660  0.890505  "
      ]
     },
     "execution_count": 4,
     "metadata": {},
     "output_type": "execute_result"
    }
   ],
   "source": [
    "diamonds_predict.head()"
   ]
  },
  {
   "cell_type": "markdown",
   "metadata": {},
   "source": [
    "# Split train and test"
   ]
  },
  {
   "cell_type": "code",
   "execution_count": 5,
   "metadata": {},
   "outputs": [],
   "source": [
    "from sklearn.model_selection import train_test_split\n",
    "\n",
    "X_train, X_test, y_train, y_test = train_test_split(diamonds_train, diamonds_train_price, test_size=0.03)"
   ]
  },
  {
   "cell_type": "code",
   "execution_count": 6,
   "metadata": {},
   "outputs": [
    {
     "data": {
      "text/html": [
       "<div>\n",
       "<style scoped>\n",
       "    .dataframe tbody tr th:only-of-type {\n",
       "        vertical-align: middle;\n",
       "    }\n",
       "\n",
       "    .dataframe tbody tr th {\n",
       "        vertical-align: top;\n",
       "    }\n",
       "\n",
       "    .dataframe thead th {\n",
       "        text-align: right;\n",
       "    }\n",
       "</style>\n",
       "<table border=\"1\" class=\"dataframe\">\n",
       "  <thead>\n",
       "    <tr style=\"text-align: right;\">\n",
       "      <th></th>\n",
       "      <th>carat</th>\n",
       "      <th>cut_numeric</th>\n",
       "      <th>color_numeric</th>\n",
       "      <th>clarity_numeric</th>\n",
       "      <th>depth</th>\n",
       "      <th>table</th>\n",
       "      <th>x</th>\n",
       "      <th>y</th>\n",
       "      <th>z</th>\n",
       "    </tr>\n",
       "  </thead>\n",
       "  <tbody>\n",
       "    <tr>\n",
       "      <th>16958</th>\n",
       "      <td>-1.051355</td>\n",
       "      <td>0.982588</td>\n",
       "      <td>0.940769</td>\n",
       "      <td>1.790210</td>\n",
       "      <td>-0.871155</td>\n",
       "      <td>-0.202877</td>\n",
       "      <td>-1.194531</td>\n",
       "      <td>-1.210375</td>\n",
       "      <td>-1.265092</td>\n",
       "    </tr>\n",
       "    <tr>\n",
       "      <th>16486</th>\n",
       "      <td>-0.205449</td>\n",
       "      <td>0.982588</td>\n",
       "      <td>-0.236447</td>\n",
       "      <td>1.182263</td>\n",
       "      <td>0.246954</td>\n",
       "      <td>-0.650176</td>\n",
       "      <td>-0.088641</td>\n",
       "      <td>-0.020170</td>\n",
       "      <td>-0.024867</td>\n",
       "    </tr>\n",
       "    <tr>\n",
       "      <th>11352</th>\n",
       "      <td>-0.374630</td>\n",
       "      <td>0.086012</td>\n",
       "      <td>0.352161</td>\n",
       "      <td>-0.033632</td>\n",
       "      <td>-0.242219</td>\n",
       "      <td>0.691721</td>\n",
       "      <td>-0.204581</td>\n",
       "      <td>-0.228673</td>\n",
       "      <td>-0.236269</td>\n",
       "    </tr>\n",
       "    <tr>\n",
       "      <th>38175</th>\n",
       "      <td>-0.501516</td>\n",
       "      <td>0.982588</td>\n",
       "      <td>-0.825055</td>\n",
       "      <td>1.790210</td>\n",
       "      <td>0.386717</td>\n",
       "      <td>-1.097476</td>\n",
       "      <td>-0.418625</td>\n",
       "      <td>-0.376363</td>\n",
       "      <td>-0.349016</td>\n",
       "    </tr>\n",
       "    <tr>\n",
       "      <th>12212</th>\n",
       "      <td>-0.755288</td>\n",
       "      <td>0.086012</td>\n",
       "      <td>-1.413663</td>\n",
       "      <td>1.790210</td>\n",
       "      <td>0.526481</td>\n",
       "      <td>1.139020</td>\n",
       "      <td>-0.766445</td>\n",
       "      <td>-0.793369</td>\n",
       "      <td>-0.715447</td>\n",
       "    </tr>\n",
       "  </tbody>\n",
       "</table>\n",
       "</div>"
      ],
      "text/plain": [
       "          carat  cut_numeric  color_numeric  clarity_numeric     depth  \\\n",
       "16958 -1.051355     0.982588       0.940769         1.790210 -0.871155   \n",
       "16486 -0.205449     0.982588      -0.236447         1.182263  0.246954   \n",
       "11352 -0.374630     0.086012       0.352161        -0.033632 -0.242219   \n",
       "38175 -0.501516     0.982588      -0.825055         1.790210  0.386717   \n",
       "12212 -0.755288     0.086012      -1.413663         1.790210  0.526481   \n",
       "\n",
       "          table         x         y         z  \n",
       "16958 -0.202877 -1.194531 -1.210375 -1.265092  \n",
       "16486 -0.650176 -0.088641 -0.020170 -0.024867  \n",
       "11352  0.691721 -0.204581 -0.228673 -0.236269  \n",
       "38175 -1.097476 -0.418625 -0.376363 -0.349016  \n",
       "12212  1.139020 -0.766445 -0.793369 -0.715447  "
      ]
     },
     "execution_count": 6,
     "metadata": {},
     "output_type": "execute_result"
    }
   ],
   "source": [
    "X_train.head()"
   ]
  },
  {
   "cell_type": "code",
   "execution_count": 7,
   "metadata": {},
   "outputs": [
    {
     "data": {
      "text/html": [
       "<div>\n",
       "<style scoped>\n",
       "    .dataframe tbody tr th:only-of-type {\n",
       "        vertical-align: middle;\n",
       "    }\n",
       "\n",
       "    .dataframe tbody tr th {\n",
       "        vertical-align: top;\n",
       "    }\n",
       "\n",
       "    .dataframe thead th {\n",
       "        text-align: right;\n",
       "    }\n",
       "</style>\n",
       "<table border=\"1\" class=\"dataframe\">\n",
       "  <thead>\n",
       "    <tr style=\"text-align: right;\">\n",
       "      <th></th>\n",
       "      <th>price</th>\n",
       "    </tr>\n",
       "  </thead>\n",
       "  <tbody>\n",
       "    <tr>\n",
       "      <th>24643</th>\n",
       "      <td>2176</td>\n",
       "    </tr>\n",
       "    <tr>\n",
       "      <th>2918</th>\n",
       "      <td>5005</td>\n",
       "    </tr>\n",
       "    <tr>\n",
       "      <th>32772</th>\n",
       "      <td>1699</td>\n",
       "    </tr>\n",
       "    <tr>\n",
       "      <th>12272</th>\n",
       "      <td>530</td>\n",
       "    </tr>\n",
       "    <tr>\n",
       "      <th>5307</th>\n",
       "      <td>15278</td>\n",
       "    </tr>\n",
       "  </tbody>\n",
       "</table>\n",
       "</div>"
      ],
      "text/plain": [
       "       price\n",
       "24643   2176\n",
       "2918    5005\n",
       "32772   1699\n",
       "12272    530\n",
       "5307   15278"
      ]
     },
     "execution_count": 7,
     "metadata": {},
     "output_type": "execute_result"
    }
   ],
   "source": [
    "y_test.head()"
   ]
  },
  {
   "cell_type": "markdown",
   "metadata": {},
   "source": [
    "# KNeighborsClassifier"
   ]
  },
  {
   "cell_type": "code",
   "execution_count": 8,
   "metadata": {},
   "outputs": [],
   "source": [
    "from sklearn.neighbors import KNeighborsClassifier"
   ]
  },
  {
   "cell_type": "code",
   "execution_count": 9,
   "metadata": {},
   "outputs": [
    {
     "name": "stderr",
     "output_type": "stream",
     "text": [
      "/home/must4in3/anaconda3/lib/python3.7/site-packages/ipykernel_launcher.py:2: DataConversionWarning: A column-vector y was passed when a 1d array was expected. Please change the shape of y to (n_samples, ), for example using ravel().\n",
      "  \n"
     ]
    }
   ],
   "source": [
    "knc = KNeighborsClassifier(n_neighbors=1, algorithm='brute', p=1)\n",
    "knc.fit(X_train,y_train)\n",
    "y_pred_kNeigh = knc.predict(X_test)"
   ]
  },
  {
   "cell_type": "code",
   "execution_count": 10,
   "metadata": {},
   "outputs": [],
   "source": [
    "y_test_kNeigh = y_test.copy()\n",
    "y_test_kNeigh['y']= y_pred_kNeigh"
   ]
  },
  {
   "cell_type": "code",
   "execution_count": 11,
   "metadata": {},
   "outputs": [
    {
     "data": {
      "text/html": [
       "<div>\n",
       "<style scoped>\n",
       "    .dataframe tbody tr th:only-of-type {\n",
       "        vertical-align: middle;\n",
       "    }\n",
       "\n",
       "    .dataframe tbody tr th {\n",
       "        vertical-align: top;\n",
       "    }\n",
       "\n",
       "    .dataframe thead th {\n",
       "        text-align: right;\n",
       "    }\n",
       "</style>\n",
       "<table border=\"1\" class=\"dataframe\">\n",
       "  <thead>\n",
       "    <tr style=\"text-align: right;\">\n",
       "      <th></th>\n",
       "      <th>price</th>\n",
       "      <th>y</th>\n",
       "      <th>Price-y</th>\n",
       "    </tr>\n",
       "  </thead>\n",
       "  <tbody>\n",
       "    <tr>\n",
       "      <th>count</th>\n",
       "      <td>1214.000000</td>\n",
       "      <td>1214.000000</td>\n",
       "      <td>1214.000000</td>\n",
       "    </tr>\n",
       "    <tr>\n",
       "      <th>mean</th>\n",
       "      <td>3803.278418</td>\n",
       "      <td>3831.775124</td>\n",
       "      <td>385.817957</td>\n",
       "    </tr>\n",
       "    <tr>\n",
       "      <th>std</th>\n",
       "      <td>3874.874207</td>\n",
       "      <td>3914.996197</td>\n",
       "      <td>670.108513</td>\n",
       "    </tr>\n",
       "    <tr>\n",
       "      <th>min</th>\n",
       "      <td>367.000000</td>\n",
       "      <td>357.000000</td>\n",
       "      <td>0.000000</td>\n",
       "    </tr>\n",
       "    <tr>\n",
       "      <th>25%</th>\n",
       "      <td>956.000000</td>\n",
       "      <td>949.250000</td>\n",
       "      <td>67.000000</td>\n",
       "    </tr>\n",
       "    <tr>\n",
       "      <th>50%</th>\n",
       "      <td>2359.000000</td>\n",
       "      <td>2352.000000</td>\n",
       "      <td>159.000000</td>\n",
       "    </tr>\n",
       "    <tr>\n",
       "      <th>75%</th>\n",
       "      <td>5261.000000</td>\n",
       "      <td>5270.000000</td>\n",
       "      <td>391.000000</td>\n",
       "    </tr>\n",
       "    <tr>\n",
       "      <th>max</th>\n",
       "      <td>18759.000000</td>\n",
       "      <td>18795.000000</td>\n",
       "      <td>7745.000000</td>\n",
       "    </tr>\n",
       "  </tbody>\n",
       "</table>\n",
       "</div>"
      ],
      "text/plain": [
       "              price             y      Price-y\n",
       "count   1214.000000   1214.000000  1214.000000\n",
       "mean    3803.278418   3831.775124   385.817957\n",
       "std     3874.874207   3914.996197   670.108513\n",
       "min      367.000000    357.000000     0.000000\n",
       "25%      956.000000    949.250000    67.000000\n",
       "50%     2359.000000   2352.000000   159.000000\n",
       "75%     5261.000000   5270.000000   391.000000\n",
       "max    18759.000000  18795.000000  7745.000000"
      ]
     },
     "execution_count": 11,
     "metadata": {},
     "output_type": "execute_result"
    }
   ],
   "source": [
    "y_test_kNeigh['Price-y'] = abs(y_test_kNeigh['price']- y_test_kNeigh['y'])\n",
    "y_test_kNeigh.describe()"
   ]
  },
  {
   "cell_type": "code",
   "execution_count": 12,
   "metadata": {},
   "outputs": [],
   "source": [
    "from sklearn.metrics import accuracy_score, precision_score, recall_score, f1_score\n",
    "from sklearn.metrics import mean_squared_error, r2_score"
   ]
  },
  {
   "cell_type": "code",
   "execution_count": 13,
   "metadata": {},
   "outputs": [
    {
     "data": {
      "text/plain": [
       "0.960170658219118"
      ]
     },
     "execution_count": 13,
     "metadata": {},
     "output_type": "execute_result"
    }
   ],
   "source": [
    "#print(\"Accuracy\",round(accuracy_score(y_test, y_pred_kNeigh),3))\n",
    "#print(\"Precision\",round(precision_score(y_test,y_pred_kNeigh,average = 'weighted'),3))\n",
    "#print(\"Recall\",round(recall_score(y_test, y_pred_kNeigh, average = 'weighted'),3))\n",
    "#print(\"F1Score\",round(f1_score(y_test, y_pred_kNeigh, average = 'weighted'),3))\n",
    "r2_score(y_test, y_pred_kNeigh)"
   ]
  },
  {
   "cell_type": "code",
   "execution_count": null,
   "metadata": {},
   "outputs": [],
   "source": [
    "fig, ax = plt.subplots()\n",
    "ax.scatter( y_test_kNeigh['price'], y_test_kNeigh['y'])\n",
    "ax.plot([y_test_kNeigh.min(), y_test_kNeigh.max()], [y_test_kNeigh.min(), y_test_kNeigh.max()], 'k--', lw=4)\n",
    "ax.set_xlabel('measured')\n",
    "ax.set_ylabel('predicted')\n",
    "plt.show()"
   ]
  },
  {
   "cell_type": "code",
   "execution_count": 14,
   "metadata": {},
   "outputs": [
    {
     "name": "stdout",
     "output_type": "stream",
     "text": [
      "RMSE=773.0013101770397\n"
     ]
    }
   ],
   "source": [
    "from sklearn.metrics import mean_squared_error, r2_score\n",
    "print(f'RMSE={mean_squared_error(y_pred_kNeigh, y_test)**0.5}')"
   ]
  },
  {
   "cell_type": "code",
   "execution_count": null,
   "metadata": {},
   "outputs": [],
   "source": []
  }
 ],
 "metadata": {
  "kernelspec": {
   "display_name": "Python 3",
   "language": "python",
   "name": "python3"
  },
  "language_info": {
   "codemirror_mode": {
    "name": "ipython",
    "version": 3
   },
   "file_extension": ".py",
   "mimetype": "text/x-python",
   "name": "python",
   "nbconvert_exporter": "python",
   "pygments_lexer": "ipython3",
   "version": "3.7.6"
  }
 },
 "nbformat": 4,
 "nbformat_minor": 4
}
