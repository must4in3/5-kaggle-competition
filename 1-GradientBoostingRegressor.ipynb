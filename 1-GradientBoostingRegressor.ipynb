{
 "cells": [
  {
   "cell_type": "code",
   "execution_count": 1,
   "metadata": {},
   "outputs": [],
   "source": [
    "import pandas as pd\n",
    "import matplotlib.pyplot as plt\n",
    "import seaborn as sns\n",
    "import numpy as np"
   ]
  },
  {
   "cell_type": "code",
   "execution_count": 2,
   "metadata": {},
   "outputs": [],
   "source": [
    "diamonds_train = pd.read_csv('outputs/df_train.csv')\n",
    "diamonds_train_price = pd.read_csv('outputs/df_train_price.csv')\n",
    "diamonds_predict=pd.read_csv('outputs/df_test.csv')\n",
    "submit=pd.read_csv('inputs/sample_submission.csv')"
   ]
  },
  {
   "cell_type": "code",
   "execution_count": 3,
   "metadata": {},
   "outputs": [
    {
     "data": {
      "text/html": [
       "<div>\n",
       "<style scoped>\n",
       "    .dataframe tbody tr th:only-of-type {\n",
       "        vertical-align: middle;\n",
       "    }\n",
       "\n",
       "    .dataframe tbody tr th {\n",
       "        vertical-align: top;\n",
       "    }\n",
       "\n",
       "    .dataframe thead th {\n",
       "        text-align: right;\n",
       "    }\n",
       "</style>\n",
       "<table border=\"1\" class=\"dataframe\">\n",
       "  <thead>\n",
       "    <tr style=\"text-align: right;\">\n",
       "      <th></th>\n",
       "      <th>carat</th>\n",
       "      <th>cut_numeric</th>\n",
       "      <th>color_numeric</th>\n",
       "      <th>clarity_numeric</th>\n",
       "      <th>depth</th>\n",
       "      <th>table</th>\n",
       "      <th>x</th>\n",
       "      <th>y</th>\n",
       "      <th>z</th>\n",
       "    </tr>\n",
       "  </thead>\n",
       "  <tbody>\n",
       "    <tr>\n",
       "      <th>0</th>\n",
       "      <td>-1.051355</td>\n",
       "      <td>-0.810564</td>\n",
       "      <td>0.352161</td>\n",
       "      <td>-0.033632</td>\n",
       "      <td>0.736126</td>\n",
       "      <td>-0.650176</td>\n",
       "      <td>-1.283716</td>\n",
       "      <td>-1.236438</td>\n",
       "      <td>-1.180531</td>\n",
       "    </tr>\n",
       "    <tr>\n",
       "      <th>1</th>\n",
       "      <td>-0.966764</td>\n",
       "      <td>0.982588</td>\n",
       "      <td>0.940769</td>\n",
       "      <td>-0.641579</td>\n",
       "      <td>0.596363</td>\n",
       "      <td>-1.097476</td>\n",
       "      <td>-1.132102</td>\n",
       "      <td>-1.080061</td>\n",
       "      <td>-1.039596</td>\n",
       "    </tr>\n",
       "    <tr>\n",
       "      <th>2</th>\n",
       "      <td>-0.839879</td>\n",
       "      <td>-0.810564</td>\n",
       "      <td>1.529377</td>\n",
       "      <td>-0.641579</td>\n",
       "      <td>-1.010919</td>\n",
       "      <td>2.033618</td>\n",
       "      <td>-0.918059</td>\n",
       "      <td>-0.854183</td>\n",
       "      <td>-0.969129</td>\n",
       "    </tr>\n",
       "    <tr>\n",
       "      <th>3</th>\n",
       "      <td>-0.839879</td>\n",
       "      <td>0.086012</td>\n",
       "      <td>-0.825055</td>\n",
       "      <td>0.574315</td>\n",
       "      <td>0.037308</td>\n",
       "      <td>0.781181</td>\n",
       "      <td>-0.900222</td>\n",
       "      <td>-0.862870</td>\n",
       "      <td>-0.870475</td>\n",
       "    </tr>\n",
       "    <tr>\n",
       "      <th>4</th>\n",
       "      <td>0.217504</td>\n",
       "      <td>-0.810564</td>\n",
       "      <td>1.529377</td>\n",
       "      <td>-0.641579</td>\n",
       "      <td>-0.521746</td>\n",
       "      <td>2.480917</td>\n",
       "      <td>0.330526</td>\n",
       "      <td>0.344710</td>\n",
       "      <td>0.271096</td>\n",
       "    </tr>\n",
       "  </tbody>\n",
       "</table>\n",
       "</div>"
      ],
      "text/plain": [
       "      carat  cut_numeric  color_numeric  clarity_numeric     depth     table  \\\n",
       "0 -1.051355    -0.810564       0.352161        -0.033632  0.736126 -0.650176   \n",
       "1 -0.966764     0.982588       0.940769        -0.641579  0.596363 -1.097476   \n",
       "2 -0.839879    -0.810564       1.529377        -0.641579 -1.010919  2.033618   \n",
       "3 -0.839879     0.086012      -0.825055         0.574315  0.037308  0.781181   \n",
       "4  0.217504    -0.810564       1.529377        -0.641579 -0.521746  2.480917   \n",
       "\n",
       "          x         y         z  \n",
       "0 -1.283716 -1.236438 -1.180531  \n",
       "1 -1.132102 -1.080061 -1.039596  \n",
       "2 -0.918059 -0.854183 -0.969129  \n",
       "3 -0.900222 -0.862870 -0.870475  \n",
       "4  0.330526  0.344710  0.271096  "
      ]
     },
     "execution_count": 3,
     "metadata": {},
     "output_type": "execute_result"
    }
   ],
   "source": [
    "diamonds_train.head()"
   ]
  },
  {
   "cell_type": "code",
   "execution_count": 4,
   "metadata": {},
   "outputs": [
    {
     "data": {
      "text/html": [
       "<div>\n",
       "<style scoped>\n",
       "    .dataframe tbody tr th:only-of-type {\n",
       "        vertical-align: middle;\n",
       "    }\n",
       "\n",
       "    .dataframe tbody tr th {\n",
       "        vertical-align: top;\n",
       "    }\n",
       "\n",
       "    .dataframe thead th {\n",
       "        text-align: right;\n",
       "    }\n",
       "</style>\n",
       "<table border=\"1\" class=\"dataframe\">\n",
       "  <thead>\n",
       "    <tr style=\"text-align: right;\">\n",
       "      <th></th>\n",
       "      <th>carat</th>\n",
       "      <th>cut_numeric</th>\n",
       "      <th>color_numeric</th>\n",
       "      <th>clarity_numeric</th>\n",
       "      <th>depth</th>\n",
       "      <th>table</th>\n",
       "      <th>x</th>\n",
       "      <th>y</th>\n",
       "      <th>z</th>\n",
       "    </tr>\n",
       "  </thead>\n",
       "  <tbody>\n",
       "    <tr>\n",
       "      <th>0</th>\n",
       "      <td>3.267015</td>\n",
       "      <td>0.978152</td>\n",
       "      <td>-1.416151</td>\n",
       "      <td>-1.232414</td>\n",
       "      <td>-0.666318</td>\n",
       "      <td>-1.554540</td>\n",
       "      <td>2.620734</td>\n",
       "      <td>2.539800</td>\n",
       "      <td>2.446736</td>\n",
       "    </tr>\n",
       "    <tr>\n",
       "      <th>1</th>\n",
       "      <td>2.596725</td>\n",
       "      <td>0.978152</td>\n",
       "      <td>-0.830504</td>\n",
       "      <td>-1.232414</td>\n",
       "      <td>0.168508</td>\n",
       "      <td>-0.658049</td>\n",
       "      <td>2.175567</td>\n",
       "      <td>2.234832</td>\n",
       "      <td>2.230593</td>\n",
       "    </tr>\n",
       "    <tr>\n",
       "      <th>2</th>\n",
       "      <td>-0.608098</td>\n",
       "      <td>0.978152</td>\n",
       "      <td>-1.416151</td>\n",
       "      <td>-0.627731</td>\n",
       "      <td>-0.040199</td>\n",
       "      <td>-1.554540</td>\n",
       "      <td>-0.495431</td>\n",
       "      <td>-0.491942</td>\n",
       "      <td>-0.492811</td>\n",
       "    </tr>\n",
       "    <tr>\n",
       "      <th>3</th>\n",
       "      <td>-1.047976</td>\n",
       "      <td>0.978152</td>\n",
       "      <td>-1.416151</td>\n",
       "      <td>-0.627731</td>\n",
       "      <td>-0.318474</td>\n",
       "      <td>-0.658049</td>\n",
       "      <td>-1.261117</td>\n",
       "      <td>-1.263332</td>\n",
       "      <td>-1.285335</td>\n",
       "    </tr>\n",
       "    <tr>\n",
       "      <th>4</th>\n",
       "      <td>0.334497</td>\n",
       "      <td>-2.592365</td>\n",
       "      <td>-0.830504</td>\n",
       "      <td>-0.023048</td>\n",
       "      <td>4.899190</td>\n",
       "      <td>-0.658049</td>\n",
       "      <td>0.332578</td>\n",
       "      <td>0.216660</td>\n",
       "      <td>0.890505</td>\n",
       "    </tr>\n",
       "  </tbody>\n",
       "</table>\n",
       "</div>"
      ],
      "text/plain": [
       "      carat  cut_numeric  color_numeric  clarity_numeric     depth     table  \\\n",
       "0  3.267015     0.978152      -1.416151        -1.232414 -0.666318 -1.554540   \n",
       "1  2.596725     0.978152      -0.830504        -1.232414  0.168508 -0.658049   \n",
       "2 -0.608098     0.978152      -1.416151        -0.627731 -0.040199 -1.554540   \n",
       "3 -1.047976     0.978152      -1.416151        -0.627731 -0.318474 -0.658049   \n",
       "4  0.334497    -2.592365      -0.830504        -0.023048  4.899190 -0.658049   \n",
       "\n",
       "          x         y         z  \n",
       "0  2.620734  2.539800  2.446736  \n",
       "1  2.175567  2.234832  2.230593  \n",
       "2 -0.495431 -0.491942 -0.492811  \n",
       "3 -1.261117 -1.263332 -1.285335  \n",
       "4  0.332578  0.216660  0.890505  "
      ]
     },
     "execution_count": 4,
     "metadata": {},
     "output_type": "execute_result"
    }
   ],
   "source": [
    "diamonds_predict.head()"
   ]
  },
  {
   "cell_type": "markdown",
   "metadata": {},
   "source": [
    "# Split train and test"
   ]
  },
  {
   "cell_type": "code",
   "execution_count": null,
   "metadata": {},
   "outputs": [],
   "source": [
    "from sklearn.model_selection import train_test_split\n",
    "\n",
    "X_train, X_test, y_train, y_test = train_test_split(diamonds_train, diamonds_train_price, test_size=0.03)"
   ]
  },
  {
   "cell_type": "code",
   "execution_count": null,
   "metadata": {},
   "outputs": [],
   "source": [
    "X_train.head()"
   ]
  },
  {
   "cell_type": "code",
   "execution_count": null,
   "metadata": {},
   "outputs": [],
   "source": [
    "y_test.shape"
   ]
  },
  {
   "cell_type": "markdown",
   "metadata": {},
   "source": [
    "# GradientBoostingRegressor"
   ]
  },
  {
   "cell_type": "code",
   "execution_count": 5,
   "metadata": {},
   "outputs": [],
   "source": [
    "from sklearn.ensemble import GradientBoostingRegressor"
   ]
  },
  {
   "cell_type": "code",
   "execution_count": 6,
   "metadata": {},
   "outputs": [],
   "source": [
    "reg = GradientBoostingRegressor(n_estimators = 100, loss='huber', min_samples_leaf=6, max_depth=7,\n",
    "                                max_leaf_nodes=250, min_samples_split=45\n",
    "                                )"
   ]
  },
  {
   "cell_type": "code",
   "execution_count": 7,
   "metadata": {},
   "outputs": [
    {
     "name": "stderr",
     "output_type": "stream",
     "text": [
      "/home/must4in3/anaconda3/lib/python3.7/site-packages/sklearn/ensemble/_gb.py:1454: DataConversionWarning: A column-vector y was passed when a 1d array was expected. Please change the shape of y to (n_samples, ), for example using ravel().\n",
      "  y = column_or_1d(y, warn=True)\n"
     ]
    },
    {
     "data": {
      "text/plain": [
       "GradientBoostingRegressor(alpha=0.9, ccp_alpha=0.0, criterion='friedman_mse',\n",
       "                          init=None, learning_rate=0.1, loss='huber',\n",
       "                          max_depth=7, max_features=None, max_leaf_nodes=250,\n",
       "                          min_impurity_decrease=0.0, min_impurity_split=None,\n",
       "                          min_samples_leaf=6, min_samples_split=45,\n",
       "                          min_weight_fraction_leaf=0.0, n_estimators=100,\n",
       "                          n_iter_no_change=None, presort='deprecated',\n",
       "                          random_state=None, subsample=1.0, tol=0.0001,\n",
       "                          validation_fraction=0.1, verbose=0, warm_start=False)"
      ]
     },
     "execution_count": 7,
     "metadata": {},
     "output_type": "execute_result"
    }
   ],
   "source": [
    "reg.fit(diamonds_train, diamonds_train_price)"
   ]
  },
  {
   "cell_type": "code",
   "execution_count": 8,
   "metadata": {},
   "outputs": [],
   "source": [
    "y_pred_GBR= reg.predict(diamonds_predict)"
   ]
  },
  {
   "cell_type": "code",
   "execution_count": null,
   "metadata": {},
   "outputs": [],
   "source": [
    "y_test_GBR = y_test.copy()\n",
    "y_test_GBR['y']= y_pred_GBR"
   ]
  },
  {
   "cell_type": "code",
   "execution_count": null,
   "metadata": {},
   "outputs": [],
   "source": [
    "y_test_GBR['Price-y'] = abs(y_test_GBR['price']- y_test_GBR['y'])\n",
    "y_test_GBR.describe()"
   ]
  },
  {
   "cell_type": "code",
   "execution_count": 9,
   "metadata": {},
   "outputs": [],
   "source": [
    "df_y = pd.DataFrame(y_pred_GBR)"
   ]
  },
  {
   "cell_type": "code",
   "execution_count": 10,
   "metadata": {},
   "outputs": [],
   "source": [
    "df_y['id'] = df_y.index"
   ]
  },
  {
   "cell_type": "code",
   "execution_count": 11,
   "metadata": {},
   "outputs": [],
   "source": [
    "df_y['price'] = df_y[0]"
   ]
  },
  {
   "cell_type": "code",
   "execution_count": 12,
   "metadata": {},
   "outputs": [],
   "source": [
    "df_y = df_y[['id', 'price']]"
   ]
  },
  {
   "cell_type": "code",
   "execution_count": 13,
   "metadata": {},
   "outputs": [
    {
     "data": {
      "text/html": [
       "<div>\n",
       "<style scoped>\n",
       "    .dataframe tbody tr th:only-of-type {\n",
       "        vertical-align: middle;\n",
       "    }\n",
       "\n",
       "    .dataframe tbody tr th {\n",
       "        vertical-align: top;\n",
       "    }\n",
       "\n",
       "    .dataframe thead th {\n",
       "        text-align: right;\n",
       "    }\n",
       "</style>\n",
       "<table border=\"1\" class=\"dataframe\">\n",
       "  <thead>\n",
       "    <tr style=\"text-align: right;\">\n",
       "      <th></th>\n",
       "      <th>id</th>\n",
       "      <th>price</th>\n",
       "    </tr>\n",
       "  </thead>\n",
       "  <tbody>\n",
       "    <tr>\n",
       "      <th>0</th>\n",
       "      <td>0</td>\n",
       "      <td>15147.743856</td>\n",
       "    </tr>\n",
       "    <tr>\n",
       "      <th>1</th>\n",
       "      <td>1</td>\n",
       "      <td>16482.270983</td>\n",
       "    </tr>\n",
       "    <tr>\n",
       "      <th>2</th>\n",
       "      <td>2</td>\n",
       "      <td>980.650204</td>\n",
       "    </tr>\n",
       "    <tr>\n",
       "      <th>3</th>\n",
       "      <td>3</td>\n",
       "      <td>475.708763</td>\n",
       "    </tr>\n",
       "    <tr>\n",
       "      <th>4</th>\n",
       "      <td>4</td>\n",
       "      <td>3137.903308</td>\n",
       "    </tr>\n",
       "    <tr>\n",
       "      <th>...</th>\n",
       "      <td>...</td>\n",
       "      <td>...</td>\n",
       "    </tr>\n",
       "    <tr>\n",
       "      <th>13480</th>\n",
       "      <td>13480</td>\n",
       "      <td>2546.695085</td>\n",
       "    </tr>\n",
       "    <tr>\n",
       "      <th>13481</th>\n",
       "      <td>13481</td>\n",
       "      <td>5104.659633</td>\n",
       "    </tr>\n",
       "    <tr>\n",
       "      <th>13482</th>\n",
       "      <td>13482</td>\n",
       "      <td>2436.329104</td>\n",
       "    </tr>\n",
       "    <tr>\n",
       "      <th>13483</th>\n",
       "      <td>13483</td>\n",
       "      <td>1022.014927</td>\n",
       "    </tr>\n",
       "    <tr>\n",
       "      <th>13484</th>\n",
       "      <td>13484</td>\n",
       "      <td>2671.827163</td>\n",
       "    </tr>\n",
       "  </tbody>\n",
       "</table>\n",
       "<p>13485 rows × 2 columns</p>\n",
       "</div>"
      ],
      "text/plain": [
       "          id         price\n",
       "0          0  15147.743856\n",
       "1          1  16482.270983\n",
       "2          2    980.650204\n",
       "3          3    475.708763\n",
       "4          4   3137.903308\n",
       "...      ...           ...\n",
       "13480  13480   2546.695085\n",
       "13481  13481   5104.659633\n",
       "13482  13482   2436.329104\n",
       "13483  13483   1022.014927\n",
       "13484  13484   2671.827163\n",
       "\n",
       "[13485 rows x 2 columns]"
      ]
     },
     "execution_count": 13,
     "metadata": {},
     "output_type": "execute_result"
    }
   ],
   "source": [
    "df_y"
   ]
  },
  {
   "cell_type": "code",
   "execution_count": 14,
   "metadata": {},
   "outputs": [],
   "source": [
    "df_y.to_csv('gaussian_br100-huber-6-7-250-45(4).csv', index=False)"
   ]
  },
  {
   "cell_type": "code",
   "execution_count": null,
   "metadata": {},
   "outputs": [],
   "source": []
  },
  {
   "cell_type": "code",
   "execution_count": null,
   "metadata": {},
   "outputs": [],
   "source": [
    "sns.set()\n",
    "fig, ax = plt.subplots()\n",
    "ax.scatter( y_test_GBR['price'], y_test_GBR['y'], alpha=.3)\n",
    "ax.plot([y_test_GBR.min(), y_test_GBR.max()], [y_test_GBR.min(), y_test_GBR.max()], 'k--', lw=4)\n",
    "ax.set_xlabel('measured')\n",
    "ax.set_ylabel('predicted')\n",
    "plt.show()"
   ]
  },
  {
   "cell_type": "code",
   "execution_count": null,
   "metadata": {},
   "outputs": [],
   "source": [
    "from sklearn.metrics import mean_squared_error, r2_score\n",
    "print(f'RMSE={mean_squared_error(y_pred_GBR, y_test)**0.5}')"
   ]
  },
  {
   "cell_type": "code",
   "execution_count": null,
   "metadata": {},
   "outputs": [],
   "source": []
  }
 ],
 "metadata": {
  "kernelspec": {
   "display_name": "Python 3",
   "language": "python",
   "name": "python3"
  },
  "language_info": {
   "codemirror_mode": {
    "name": "ipython",
    "version": 3
   },
   "file_extension": ".py",
   "mimetype": "text/x-python",
   "name": "python",
   "nbconvert_exporter": "python",
   "pygments_lexer": "ipython3",
   "version": "3.7.6"
  }
 },
 "nbformat": 4,
 "nbformat_minor": 4
}
