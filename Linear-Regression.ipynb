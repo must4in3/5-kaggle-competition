{
 "cells": [
  {
   "cell_type": "code",
   "execution_count": 27,
   "metadata": {},
   "outputs": [],
   "source": [
    "import pandas as pd\n",
    "import matplotlib.pyplot as plt\n",
    "import seaborn as sns\n",
    "import numpy as np"
   ]
  },
  {
   "cell_type": "code",
   "execution_count": 28,
   "metadata": {},
   "outputs": [],
   "source": [
    "diamonds_train = pd.read_csv('outputs/df_train.csv')\n",
    "diamonds_train_price = pd.read_csv('outputs/df_train_price.csv')\n",
    "diamonds_predict=pd.read_csv('outputs/df_test.csv')\n",
    "submit=pd.read_csv('inputs/sample_submission.csv')"
   ]
  },
  {
   "cell_type": "code",
   "execution_count": 29,
   "metadata": {},
   "outputs": [
    {
     "data": {
      "text/html": [
       "<div>\n",
       "<style scoped>\n",
       "    .dataframe tbody tr th:only-of-type {\n",
       "        vertical-align: middle;\n",
       "    }\n",
       "\n",
       "    .dataframe tbody tr th {\n",
       "        vertical-align: top;\n",
       "    }\n",
       "\n",
       "    .dataframe thead th {\n",
       "        text-align: right;\n",
       "    }\n",
       "</style>\n",
       "<table border=\"1\" class=\"dataframe\">\n",
       "  <thead>\n",
       "    <tr style=\"text-align: right;\">\n",
       "      <th></th>\n",
       "      <th>carat</th>\n",
       "      <th>cut_numeric</th>\n",
       "      <th>color_numeric</th>\n",
       "      <th>clarity_numeric</th>\n",
       "      <th>depth</th>\n",
       "      <th>table</th>\n",
       "      <th>x</th>\n",
       "      <th>y</th>\n",
       "      <th>z</th>\n",
       "    </tr>\n",
       "  </thead>\n",
       "  <tbody>\n",
       "    <tr>\n",
       "      <th>0</th>\n",
       "      <td>-1.051355</td>\n",
       "      <td>-0.810564</td>\n",
       "      <td>0.352161</td>\n",
       "      <td>-0.033632</td>\n",
       "      <td>0.736126</td>\n",
       "      <td>-0.650176</td>\n",
       "      <td>-1.283716</td>\n",
       "      <td>-1.236438</td>\n",
       "      <td>-1.180531</td>\n",
       "    </tr>\n",
       "    <tr>\n",
       "      <th>1</th>\n",
       "      <td>-0.966764</td>\n",
       "      <td>0.982588</td>\n",
       "      <td>0.940769</td>\n",
       "      <td>-0.641579</td>\n",
       "      <td>0.596363</td>\n",
       "      <td>-1.097476</td>\n",
       "      <td>-1.132102</td>\n",
       "      <td>-1.080061</td>\n",
       "      <td>-1.039596</td>\n",
       "    </tr>\n",
       "    <tr>\n",
       "      <th>2</th>\n",
       "      <td>-0.839879</td>\n",
       "      <td>-0.810564</td>\n",
       "      <td>1.529377</td>\n",
       "      <td>-0.641579</td>\n",
       "      <td>-1.010919</td>\n",
       "      <td>2.033618</td>\n",
       "      <td>-0.918059</td>\n",
       "      <td>-0.854183</td>\n",
       "      <td>-0.969129</td>\n",
       "    </tr>\n",
       "    <tr>\n",
       "      <th>3</th>\n",
       "      <td>-0.839879</td>\n",
       "      <td>0.086012</td>\n",
       "      <td>-0.825055</td>\n",
       "      <td>0.574315</td>\n",
       "      <td>0.037308</td>\n",
       "      <td>0.781181</td>\n",
       "      <td>-0.900222</td>\n",
       "      <td>-0.862870</td>\n",
       "      <td>-0.870475</td>\n",
       "    </tr>\n",
       "    <tr>\n",
       "      <th>4</th>\n",
       "      <td>0.217504</td>\n",
       "      <td>-0.810564</td>\n",
       "      <td>1.529377</td>\n",
       "      <td>-0.641579</td>\n",
       "      <td>-0.521746</td>\n",
       "      <td>2.480917</td>\n",
       "      <td>0.330526</td>\n",
       "      <td>0.344710</td>\n",
       "      <td>0.271096</td>\n",
       "    </tr>\n",
       "  </tbody>\n",
       "</table>\n",
       "</div>"
      ],
      "text/plain": [
       "      carat  cut_numeric  color_numeric  clarity_numeric     depth     table  \\\n",
       "0 -1.051355    -0.810564       0.352161        -0.033632  0.736126 -0.650176   \n",
       "1 -0.966764     0.982588       0.940769        -0.641579  0.596363 -1.097476   \n",
       "2 -0.839879    -0.810564       1.529377        -0.641579 -1.010919  2.033618   \n",
       "3 -0.839879     0.086012      -0.825055         0.574315  0.037308  0.781181   \n",
       "4  0.217504    -0.810564       1.529377        -0.641579 -0.521746  2.480917   \n",
       "\n",
       "          x         y         z  \n",
       "0 -1.283716 -1.236438 -1.180531  \n",
       "1 -1.132102 -1.080061 -1.039596  \n",
       "2 -0.918059 -0.854183 -0.969129  \n",
       "3 -0.900222 -0.862870 -0.870475  \n",
       "4  0.330526  0.344710  0.271096  "
      ]
     },
     "execution_count": 29,
     "metadata": {},
     "output_type": "execute_result"
    }
   ],
   "source": [
    "diamonds_train.head()"
   ]
  },
  {
   "cell_type": "code",
   "execution_count": 30,
   "metadata": {},
   "outputs": [
    {
     "data": {
      "text/html": [
       "<div>\n",
       "<style scoped>\n",
       "    .dataframe tbody tr th:only-of-type {\n",
       "        vertical-align: middle;\n",
       "    }\n",
       "\n",
       "    .dataframe tbody tr th {\n",
       "        vertical-align: top;\n",
       "    }\n",
       "\n",
       "    .dataframe thead th {\n",
       "        text-align: right;\n",
       "    }\n",
       "</style>\n",
       "<table border=\"1\" class=\"dataframe\">\n",
       "  <thead>\n",
       "    <tr style=\"text-align: right;\">\n",
       "      <th></th>\n",
       "      <th>carat</th>\n",
       "      <th>cut_numeric</th>\n",
       "      <th>color_numeric</th>\n",
       "      <th>clarity_numeric</th>\n",
       "      <th>depth</th>\n",
       "      <th>table</th>\n",
       "      <th>x</th>\n",
       "      <th>y</th>\n",
       "      <th>z</th>\n",
       "    </tr>\n",
       "  </thead>\n",
       "  <tbody>\n",
       "    <tr>\n",
       "      <th>0</th>\n",
       "      <td>3.267015</td>\n",
       "      <td>0.978152</td>\n",
       "      <td>-1.416151</td>\n",
       "      <td>-1.232414</td>\n",
       "      <td>-0.666318</td>\n",
       "      <td>-1.554540</td>\n",
       "      <td>2.620734</td>\n",
       "      <td>2.539800</td>\n",
       "      <td>2.446736</td>\n",
       "    </tr>\n",
       "    <tr>\n",
       "      <th>1</th>\n",
       "      <td>2.596725</td>\n",
       "      <td>0.978152</td>\n",
       "      <td>-0.830504</td>\n",
       "      <td>-1.232414</td>\n",
       "      <td>0.168508</td>\n",
       "      <td>-0.658049</td>\n",
       "      <td>2.175567</td>\n",
       "      <td>2.234832</td>\n",
       "      <td>2.230593</td>\n",
       "    </tr>\n",
       "    <tr>\n",
       "      <th>2</th>\n",
       "      <td>-0.608098</td>\n",
       "      <td>0.978152</td>\n",
       "      <td>-1.416151</td>\n",
       "      <td>-0.627731</td>\n",
       "      <td>-0.040199</td>\n",
       "      <td>-1.554540</td>\n",
       "      <td>-0.495431</td>\n",
       "      <td>-0.491942</td>\n",
       "      <td>-0.492811</td>\n",
       "    </tr>\n",
       "    <tr>\n",
       "      <th>3</th>\n",
       "      <td>-1.047976</td>\n",
       "      <td>0.978152</td>\n",
       "      <td>-1.416151</td>\n",
       "      <td>-0.627731</td>\n",
       "      <td>-0.318474</td>\n",
       "      <td>-0.658049</td>\n",
       "      <td>-1.261117</td>\n",
       "      <td>-1.263332</td>\n",
       "      <td>-1.285335</td>\n",
       "    </tr>\n",
       "    <tr>\n",
       "      <th>4</th>\n",
       "      <td>0.334497</td>\n",
       "      <td>-2.592365</td>\n",
       "      <td>-0.830504</td>\n",
       "      <td>-0.023048</td>\n",
       "      <td>4.899190</td>\n",
       "      <td>-0.658049</td>\n",
       "      <td>0.332578</td>\n",
       "      <td>0.216660</td>\n",
       "      <td>0.890505</td>\n",
       "    </tr>\n",
       "  </tbody>\n",
       "</table>\n",
       "</div>"
      ],
      "text/plain": [
       "      carat  cut_numeric  color_numeric  clarity_numeric     depth     table  \\\n",
       "0  3.267015     0.978152      -1.416151        -1.232414 -0.666318 -1.554540   \n",
       "1  2.596725     0.978152      -0.830504        -1.232414  0.168508 -0.658049   \n",
       "2 -0.608098     0.978152      -1.416151        -0.627731 -0.040199 -1.554540   \n",
       "3 -1.047976     0.978152      -1.416151        -0.627731 -0.318474 -0.658049   \n",
       "4  0.334497    -2.592365      -0.830504        -0.023048  4.899190 -0.658049   \n",
       "\n",
       "          x         y         z  \n",
       "0  2.620734  2.539800  2.446736  \n",
       "1  2.175567  2.234832  2.230593  \n",
       "2 -0.495431 -0.491942 -0.492811  \n",
       "3 -1.261117 -1.263332 -1.285335  \n",
       "4  0.332578  0.216660  0.890505  "
      ]
     },
     "execution_count": 30,
     "metadata": {},
     "output_type": "execute_result"
    }
   ],
   "source": [
    "diamonds_predict.head()"
   ]
  },
  {
   "cell_type": "markdown",
   "metadata": {},
   "source": [
    "# Split train and test"
   ]
  },
  {
   "cell_type": "code",
   "execution_count": 31,
   "metadata": {},
   "outputs": [],
   "source": [
    "from sklearn.model_selection import train_test_split\n",
    "\n",
    "X_train, X_test, y_train, y_test = train_test_split(diamonds_train, diamonds_train_price, test_size=0.01)"
   ]
  },
  {
   "cell_type": "code",
   "execution_count": 32,
   "metadata": {},
   "outputs": [
    {
     "data": {
      "text/html": [
       "<div>\n",
       "<style scoped>\n",
       "    .dataframe tbody tr th:only-of-type {\n",
       "        vertical-align: middle;\n",
       "    }\n",
       "\n",
       "    .dataframe tbody tr th {\n",
       "        vertical-align: top;\n",
       "    }\n",
       "\n",
       "    .dataframe thead th {\n",
       "        text-align: right;\n",
       "    }\n",
       "</style>\n",
       "<table border=\"1\" class=\"dataframe\">\n",
       "  <thead>\n",
       "    <tr style=\"text-align: right;\">\n",
       "      <th></th>\n",
       "      <th>carat</th>\n",
       "      <th>cut_numeric</th>\n",
       "      <th>color_numeric</th>\n",
       "      <th>clarity_numeric</th>\n",
       "      <th>depth</th>\n",
       "      <th>table</th>\n",
       "      <th>x</th>\n",
       "      <th>y</th>\n",
       "      <th>z</th>\n",
       "    </tr>\n",
       "  </thead>\n",
       "  <tbody>\n",
       "    <tr>\n",
       "      <th>10519</th>\n",
       "      <td>0.492423</td>\n",
       "      <td>-0.810564</td>\n",
       "      <td>-0.236447</td>\n",
       "      <td>-1.249527</td>\n",
       "      <td>0.945772</td>\n",
       "      <td>0.244422</td>\n",
       "      <td>0.606999</td>\n",
       "      <td>0.553213</td>\n",
       "      <td>0.693900</td>\n",
       "    </tr>\n",
       "    <tr>\n",
       "      <th>11295</th>\n",
       "      <td>-0.586107</td>\n",
       "      <td>-1.707140</td>\n",
       "      <td>0.940769</td>\n",
       "      <td>-1.249527</td>\n",
       "      <td>1.365062</td>\n",
       "      <td>-0.650176</td>\n",
       "      <td>-0.543483</td>\n",
       "      <td>-0.506678</td>\n",
       "      <td>-0.377203</td>\n",
       "    </tr>\n",
       "    <tr>\n",
       "      <th>39885</th>\n",
       "      <td>2.057349</td>\n",
       "      <td>-0.810564</td>\n",
       "      <td>1.529377</td>\n",
       "      <td>-0.641579</td>\n",
       "      <td>-1.779618</td>\n",
       "      <td>1.586319</td>\n",
       "      <td>1.900176</td>\n",
       "      <td>1.951921</td>\n",
       "      <td>1.624069</td>\n",
       "    </tr>\n",
       "    <tr>\n",
       "      <th>13656</th>\n",
       "      <td>-0.438073</td>\n",
       "      <td>0.982588</td>\n",
       "      <td>-0.236447</td>\n",
       "      <td>-0.033632</td>\n",
       "      <td>0.596363</td>\n",
       "      <td>-1.544775</td>\n",
       "      <td>-0.365114</td>\n",
       "      <td>-0.306862</td>\n",
       "      <td>-0.264456</td>\n",
       "    </tr>\n",
       "    <tr>\n",
       "      <th>8981</th>\n",
       "      <td>1.274886</td>\n",
       "      <td>-0.810564</td>\n",
       "      <td>-1.413663</td>\n",
       "      <td>-0.033632</td>\n",
       "      <td>-1.779618</td>\n",
       "      <td>1.139020</td>\n",
       "      <td>1.445334</td>\n",
       "      <td>1.361162</td>\n",
       "      <td>1.130798</td>\n",
       "    </tr>\n",
       "  </tbody>\n",
       "</table>\n",
       "</div>"
      ],
      "text/plain": [
       "          carat  cut_numeric  color_numeric  clarity_numeric     depth  \\\n",
       "10519  0.492423    -0.810564      -0.236447        -1.249527  0.945772   \n",
       "11295 -0.586107    -1.707140       0.940769        -1.249527  1.365062   \n",
       "39885  2.057349    -0.810564       1.529377        -0.641579 -1.779618   \n",
       "13656 -0.438073     0.982588      -0.236447        -0.033632  0.596363   \n",
       "8981   1.274886    -0.810564      -1.413663        -0.033632 -1.779618   \n",
       "\n",
       "          table         x         y         z  \n",
       "10519  0.244422  0.606999  0.553213  0.693900  \n",
       "11295 -0.650176 -0.543483 -0.506678 -0.377203  \n",
       "39885  1.586319  1.900176  1.951921  1.624069  \n",
       "13656 -1.544775 -0.365114 -0.306862 -0.264456  \n",
       "8981   1.139020  1.445334  1.361162  1.130798  "
      ]
     },
     "execution_count": 32,
     "metadata": {},
     "output_type": "execute_result"
    }
   ],
   "source": [
    "X_train.head()"
   ]
  },
  {
   "cell_type": "code",
   "execution_count": 33,
   "metadata": {},
   "outputs": [
    {
     "data": {
      "text/html": [
       "<div>\n",
       "<style scoped>\n",
       "    .dataframe tbody tr th:only-of-type {\n",
       "        vertical-align: middle;\n",
       "    }\n",
       "\n",
       "    .dataframe tbody tr th {\n",
       "        vertical-align: top;\n",
       "    }\n",
       "\n",
       "    .dataframe thead th {\n",
       "        text-align: right;\n",
       "    }\n",
       "</style>\n",
       "<table border=\"1\" class=\"dataframe\">\n",
       "  <thead>\n",
       "    <tr style=\"text-align: right;\">\n",
       "      <th></th>\n",
       "      <th>price</th>\n",
       "    </tr>\n",
       "  </thead>\n",
       "  <tbody>\n",
       "    <tr>\n",
       "      <th>5731</th>\n",
       "      <td>660</td>\n",
       "    </tr>\n",
       "    <tr>\n",
       "      <th>39218</th>\n",
       "      <td>2553</td>\n",
       "    </tr>\n",
       "    <tr>\n",
       "      <th>31213</th>\n",
       "      <td>556</td>\n",
       "    </tr>\n",
       "    <tr>\n",
       "      <th>6803</th>\n",
       "      <td>10693</td>\n",
       "    </tr>\n",
       "    <tr>\n",
       "      <th>18582</th>\n",
       "      <td>3763</td>\n",
       "    </tr>\n",
       "  </tbody>\n",
       "</table>\n",
       "</div>"
      ],
      "text/plain": [
       "       price\n",
       "5731     660\n",
       "39218   2553\n",
       "31213    556\n",
       "6803   10693\n",
       "18582   3763"
      ]
     },
     "execution_count": 33,
     "metadata": {},
     "output_type": "execute_result"
    }
   ],
   "source": [
    "y_test.head()"
   ]
  },
  {
   "cell_type": "markdown",
   "metadata": {},
   "source": [
    "# Linear Regression"
   ]
  },
  {
   "cell_type": "code",
   "execution_count": 34,
   "metadata": {},
   "outputs": [],
   "source": [
    "from sklearn.linear_model import LinearRegression"
   ]
  },
  {
   "cell_type": "code",
   "execution_count": 40,
   "metadata": {},
   "outputs": [],
   "source": [
    "diamonds_model= LinearRegression()"
   ]
  },
  {
   "cell_type": "code",
   "execution_count": 41,
   "metadata": {},
   "outputs": [
    {
     "name": "stdout",
     "output_type": "stream",
     "text": [
      "Coeff >>>> [[ 5159.63980424   137.23732981   547.63030042   818.88410079\n",
      "   -110.11260117   -50.92508109 -1037.03962411    22.27176432\n",
      "    -18.04534654]]\n",
      "Intercept >>>> [3928.78557615]\n"
     ]
    }
   ],
   "source": [
    "diamonds_model.fit(X_train, y_train)\n",
    "print('Coeff >>>>',diamonds_model.coef_)\n",
    "print('Intercept >>>>',diamonds_model.intercept_)"
   ]
  },
  {
   "cell_type": "code",
   "execution_count": 42,
   "metadata": {},
   "outputs": [],
   "source": [
    "pre = diamonds_model.predict(X_test)"
   ]
  },
  {
   "cell_type": "code",
   "execution_count": 43,
   "metadata": {},
   "outputs": [],
   "source": [
    "y_test_linear = y_test.copy()\n",
    "y_test_linear['y']= pre"
   ]
  },
  {
   "cell_type": "code",
   "execution_count": 44,
   "metadata": {},
   "outputs": [
    {
     "data": {
      "text/html": [
       "<div>\n",
       "<style scoped>\n",
       "    .dataframe tbody tr th:only-of-type {\n",
       "        vertical-align: middle;\n",
       "    }\n",
       "\n",
       "    .dataframe tbody tr th {\n",
       "        vertical-align: top;\n",
       "    }\n",
       "\n",
       "    .dataframe thead th {\n",
       "        text-align: right;\n",
       "    }\n",
       "</style>\n",
       "<table border=\"1\" class=\"dataframe\">\n",
       "  <thead>\n",
       "    <tr style=\"text-align: right;\">\n",
       "      <th></th>\n",
       "      <th>price</th>\n",
       "      <th>y</th>\n",
       "      <th>Price-y</th>\n",
       "    </tr>\n",
       "  </thead>\n",
       "  <tbody>\n",
       "    <tr>\n",
       "      <th>count</th>\n",
       "      <td>405.000000</td>\n",
       "      <td>405.000000</td>\n",
       "      <td>405.000000</td>\n",
       "    </tr>\n",
       "    <tr>\n",
       "      <th>mean</th>\n",
       "      <td>4283.641975</td>\n",
       "      <td>4290.665391</td>\n",
       "      <td>810.869587</td>\n",
       "    </tr>\n",
       "    <tr>\n",
       "      <th>std</th>\n",
       "      <td>4378.315962</td>\n",
       "      <td>4095.497356</td>\n",
       "      <td>933.543242</td>\n",
       "    </tr>\n",
       "    <tr>\n",
       "      <th>min</th>\n",
       "      <td>403.000000</td>\n",
       "      <td>-1341.442014</td>\n",
       "      <td>0.102878</td>\n",
       "    </tr>\n",
       "    <tr>\n",
       "      <th>25%</th>\n",
       "      <td>992.000000</td>\n",
       "      <td>1121.180793</td>\n",
       "      <td>260.629318</td>\n",
       "    </tr>\n",
       "    <tr>\n",
       "      <th>50%</th>\n",
       "      <td>2863.000000</td>\n",
       "      <td>3406.748833</td>\n",
       "      <td>560.249714</td>\n",
       "    </tr>\n",
       "    <tr>\n",
       "      <th>75%</th>\n",
       "      <td>5357.000000</td>\n",
       "      <td>5752.210099</td>\n",
       "      <td>1033.773469</td>\n",
       "    </tr>\n",
       "    <tr>\n",
       "      <th>max</th>\n",
       "      <td>18803.000000</td>\n",
       "      <td>22626.921426</td>\n",
       "      <td>7745.899589</td>\n",
       "    </tr>\n",
       "  </tbody>\n",
       "</table>\n",
       "</div>"
      ],
      "text/plain": [
       "              price             y      Price-y\n",
       "count    405.000000    405.000000   405.000000\n",
       "mean    4283.641975   4290.665391   810.869587\n",
       "std     4378.315962   4095.497356   933.543242\n",
       "min      403.000000  -1341.442014     0.102878\n",
       "25%      992.000000   1121.180793   260.629318\n",
       "50%     2863.000000   3406.748833   560.249714\n",
       "75%     5357.000000   5752.210099  1033.773469\n",
       "max    18803.000000  22626.921426  7745.899589"
      ]
     },
     "execution_count": 44,
     "metadata": {},
     "output_type": "execute_result"
    }
   ],
   "source": [
    "y_test_linear['Price-y'] = abs(y_test_linear['price']- y_test_linear['y'])\n",
    "y_test_linear.describe()"
   ]
  },
  {
   "cell_type": "code",
   "execution_count": 45,
   "metadata": {},
   "outputs": [
    {
     "name": "stdout",
     "output_type": "stream",
     "text": [
      "Errore quadratico medio: 1526860.61\n",
      "R²: 0.92\n"
     ]
    }
   ],
   "source": [
    "from sklearn.metrics import mean_squared_error, r2_score\n",
    "print( \"Errore quadratico medio:% .2f\" % mean_squared_error ( y_test_linear['price'], y_test_linear['y']))\n",
    "print( 'R²:% .2f' % r2_score ( y_test_linear['price'], y_test_linear['y']))"
   ]
  },
  {
   "cell_type": "code",
   "execution_count": 46,
   "metadata": {},
   "outputs": [
    {
     "data": {
      "image/png": "[encoded data removed]",
      "text/plain": [
       "<Figure size 432x288 with 1 Axes>"
      ]
     },
     "metadata": {
      "needs_background": "light"
     },
     "output_type": "display_data"
    }
   ],
   "source": [
    "fig, ax = plt.subplots()\n",
    "ax.scatter( y_test_linear['price'], y_test_linear['y'])\n",
    "ax.plot([y_test_linear.min(), y_test_linear.max()], [y_test_linear.min(), y_test_linear.max()], 'k--', lw=4)\n",
    "ax.set_xlabel('measured')\n",
    "ax.set_ylabel('predicted')\n",
    "plt.show()"
   ]
  },
  {
   "cell_type": "code",
   "execution_count": null,
   "metadata": {},
   "outputs": [],
   "source": [
    "import statsmodels.api as sm\n",
    "X_train2 = sm.add_constant(X_train)\n",
    "y_train2 = y_train\n",
    "model = sm.OLS(y_train2, X_train2)\n",
    "results = model.fit()\n",
    "print(results.summary())"
   ]
  },
  {
   "cell_type": "code",
   "execution_count": null,
   "metadata": {},
   "outputs": [],
   "source": []
  }
 ],
 "metadata": {
  "kernelspec": {
   "display_name": "Python 3",
   "language": "python",
   "name": "python3"
  },
  "language_info": {
   "codemirror_mode": {
    "name": "ipython",
    "version": 3
   },
   "file_extension": ".py",
   "mimetype": "text/x-python",
   "name": "python",
   "nbconvert_exporter": "python",
   "pygments_lexer": "ipython3",
   "version": "3.7.6"
  }
 },
 "nbformat": 4,
 "nbformat_minor": 4
}
