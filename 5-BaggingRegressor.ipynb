{
 "cells": [
  {
   "cell_type": "code",
   "execution_count": 1,
   "metadata": {},
   "outputs": [],
   "source": [
    "import pandas as pd\n",
    "import matplotlib.pyplot as plt\n",
    "import seaborn as sns\n",
    "import numpy as np"
   ]
  },
  {
   "cell_type": "code",
   "execution_count": 2,
   "metadata": {},
   "outputs": [],
   "source": [
    "diamonds_train = pd.read_csv('outputs/df_train.csv')\n",
    "diamonds_train_price = pd.read_csv('outputs/df_train_price.csv')\n",
    "diamonds_predict=pd.read_csv('outputs/df_test.csv')\n",
    "submit=pd.read_csv('inputs/sample_submission.csv')"
   ]
  },
  {
   "cell_type": "code",
   "execution_count": 3,
   "metadata": {},
   "outputs": [
    {
     "data": {
      "text/html": [
       "<div>\n",
       "<style scoped>\n",
       "    .dataframe tbody tr th:only-of-type {\n",
       "        vertical-align: middle;\n",
       "    }\n",
       "\n",
       "    .dataframe tbody tr th {\n",
       "        vertical-align: top;\n",
       "    }\n",
       "\n",
       "    .dataframe thead th {\n",
       "        text-align: right;\n",
       "    }\n",
       "</style>\n",
       "<table border=\"1\" class=\"dataframe\">\n",
       "  <thead>\n",
       "    <tr style=\"text-align: right;\">\n",
       "      <th></th>\n",
       "      <th>carat</th>\n",
       "      <th>cut_numeric</th>\n",
       "      <th>color_numeric</th>\n",
       "      <th>clarity_numeric</th>\n",
       "      <th>depth</th>\n",
       "      <th>table</th>\n",
       "      <th>x</th>\n",
       "      <th>y</th>\n",
       "      <th>z</th>\n",
       "    </tr>\n",
       "  </thead>\n",
       "  <tbody>\n",
       "    <tr>\n",
       "      <th>0</th>\n",
       "      <td>-1.051355</td>\n",
       "      <td>-0.810564</td>\n",
       "      <td>0.352161</td>\n",
       "      <td>-0.033632</td>\n",
       "      <td>0.736126</td>\n",
       "      <td>-0.650176</td>\n",
       "      <td>-1.283716</td>\n",
       "      <td>-1.236438</td>\n",
       "      <td>-1.180531</td>\n",
       "    </tr>\n",
       "    <tr>\n",
       "      <th>1</th>\n",
       "      <td>-0.966764</td>\n",
       "      <td>0.982588</td>\n",
       "      <td>0.940769</td>\n",
       "      <td>-0.641579</td>\n",
       "      <td>0.596363</td>\n",
       "      <td>-1.097476</td>\n",
       "      <td>-1.132102</td>\n",
       "      <td>-1.080061</td>\n",
       "      <td>-1.039596</td>\n",
       "    </tr>\n",
       "    <tr>\n",
       "      <th>2</th>\n",
       "      <td>-0.839879</td>\n",
       "      <td>-0.810564</td>\n",
       "      <td>1.529377</td>\n",
       "      <td>-0.641579</td>\n",
       "      <td>-1.010919</td>\n",
       "      <td>2.033618</td>\n",
       "      <td>-0.918059</td>\n",
       "      <td>-0.854183</td>\n",
       "      <td>-0.969129</td>\n",
       "    </tr>\n",
       "    <tr>\n",
       "      <th>3</th>\n",
       "      <td>-0.839879</td>\n",
       "      <td>0.086012</td>\n",
       "      <td>-0.825055</td>\n",
       "      <td>0.574315</td>\n",
       "      <td>0.037308</td>\n",
       "      <td>0.781181</td>\n",
       "      <td>-0.900222</td>\n",
       "      <td>-0.862870</td>\n",
       "      <td>-0.870475</td>\n",
       "    </tr>\n",
       "    <tr>\n",
       "      <th>4</th>\n",
       "      <td>0.217504</td>\n",
       "      <td>-0.810564</td>\n",
       "      <td>1.529377</td>\n",
       "      <td>-0.641579</td>\n",
       "      <td>-0.521746</td>\n",
       "      <td>2.480917</td>\n",
       "      <td>0.330526</td>\n",
       "      <td>0.344710</td>\n",
       "      <td>0.271096</td>\n",
       "    </tr>\n",
       "  </tbody>\n",
       "</table>\n",
       "</div>"
      ],
      "text/plain": [
       "      carat  cut_numeric  color_numeric  clarity_numeric     depth     table  \\\n",
       "0 -1.051355    -0.810564       0.352161        -0.033632  0.736126 -0.650176   \n",
       "1 -0.966764     0.982588       0.940769        -0.641579  0.596363 -1.097476   \n",
       "2 -0.839879    -0.810564       1.529377        -0.641579 -1.010919  2.033618   \n",
       "3 -0.839879     0.086012      -0.825055         0.574315  0.037308  0.781181   \n",
       "4  0.217504    -0.810564       1.529377        -0.641579 -0.521746  2.480917   \n",
       "\n",
       "          x         y         z  \n",
       "0 -1.283716 -1.236438 -1.180531  \n",
       "1 -1.132102 -1.080061 -1.039596  \n",
       "2 -0.918059 -0.854183 -0.969129  \n",
       "3 -0.900222 -0.862870 -0.870475  \n",
       "4  0.330526  0.344710  0.271096  "
      ]
     },
     "execution_count": 3,
     "metadata": {},
     "output_type": "execute_result"
    }
   ],
   "source": [
    "diamonds_train.head()"
   ]
  },
  {
   "cell_type": "code",
   "execution_count": 4,
   "metadata": {},
   "outputs": [
    {
     "data": {
      "text/html": [
       "<div>\n",
       "<style scoped>\n",
       "    .dataframe tbody tr th:only-of-type {\n",
       "        vertical-align: middle;\n",
       "    }\n",
       "\n",
       "    .dataframe tbody tr th {\n",
       "        vertical-align: top;\n",
       "    }\n",
       "\n",
       "    .dataframe thead th {\n",
       "        text-align: right;\n",
       "    }\n",
       "</style>\n",
       "<table border=\"1\" class=\"dataframe\">\n",
       "  <thead>\n",
       "    <tr style=\"text-align: right;\">\n",
       "      <th></th>\n",
       "      <th>carat</th>\n",
       "      <th>cut_numeric</th>\n",
       "      <th>color_numeric</th>\n",
       "      <th>clarity_numeric</th>\n",
       "      <th>depth</th>\n",
       "      <th>table</th>\n",
       "      <th>x</th>\n",
       "      <th>y</th>\n",
       "      <th>z</th>\n",
       "    </tr>\n",
       "  </thead>\n",
       "  <tbody>\n",
       "    <tr>\n",
       "      <th>0</th>\n",
       "      <td>3.267015</td>\n",
       "      <td>0.978152</td>\n",
       "      <td>-1.416151</td>\n",
       "      <td>-1.232414</td>\n",
       "      <td>-0.666318</td>\n",
       "      <td>-1.554540</td>\n",
       "      <td>2.620734</td>\n",
       "      <td>2.539800</td>\n",
       "      <td>2.446736</td>\n",
       "    </tr>\n",
       "    <tr>\n",
       "      <th>1</th>\n",
       "      <td>2.596725</td>\n",
       "      <td>0.978152</td>\n",
       "      <td>-0.830504</td>\n",
       "      <td>-1.232414</td>\n",
       "      <td>0.168508</td>\n",
       "      <td>-0.658049</td>\n",
       "      <td>2.175567</td>\n",
       "      <td>2.234832</td>\n",
       "      <td>2.230593</td>\n",
       "    </tr>\n",
       "    <tr>\n",
       "      <th>2</th>\n",
       "      <td>-0.608098</td>\n",
       "      <td>0.978152</td>\n",
       "      <td>-1.416151</td>\n",
       "      <td>-0.627731</td>\n",
       "      <td>-0.040199</td>\n",
       "      <td>-1.554540</td>\n",
       "      <td>-0.495431</td>\n",
       "      <td>-0.491942</td>\n",
       "      <td>-0.492811</td>\n",
       "    </tr>\n",
       "    <tr>\n",
       "      <th>3</th>\n",
       "      <td>-1.047976</td>\n",
       "      <td>0.978152</td>\n",
       "      <td>-1.416151</td>\n",
       "      <td>-0.627731</td>\n",
       "      <td>-0.318474</td>\n",
       "      <td>-0.658049</td>\n",
       "      <td>-1.261117</td>\n",
       "      <td>-1.263332</td>\n",
       "      <td>-1.285335</td>\n",
       "    </tr>\n",
       "    <tr>\n",
       "      <th>4</th>\n",
       "      <td>0.334497</td>\n",
       "      <td>-2.592365</td>\n",
       "      <td>-0.830504</td>\n",
       "      <td>-0.023048</td>\n",
       "      <td>4.899190</td>\n",
       "      <td>-0.658049</td>\n",
       "      <td>0.332578</td>\n",
       "      <td>0.216660</td>\n",
       "      <td>0.890505</td>\n",
       "    </tr>\n",
       "  </tbody>\n",
       "</table>\n",
       "</div>"
      ],
      "text/plain": [
       "      carat  cut_numeric  color_numeric  clarity_numeric     depth     table  \\\n",
       "0  3.267015     0.978152      -1.416151        -1.232414 -0.666318 -1.554540   \n",
       "1  2.596725     0.978152      -0.830504        -1.232414  0.168508 -0.658049   \n",
       "2 -0.608098     0.978152      -1.416151        -0.627731 -0.040199 -1.554540   \n",
       "3 -1.047976     0.978152      -1.416151        -0.627731 -0.318474 -0.658049   \n",
       "4  0.334497    -2.592365      -0.830504        -0.023048  4.899190 -0.658049   \n",
       "\n",
       "          x         y         z  \n",
       "0  2.620734  2.539800  2.446736  \n",
       "1  2.175567  2.234832  2.230593  \n",
       "2 -0.495431 -0.491942 -0.492811  \n",
       "3 -1.261117 -1.263332 -1.285335  \n",
       "4  0.332578  0.216660  0.890505  "
      ]
     },
     "execution_count": 4,
     "metadata": {},
     "output_type": "execute_result"
    }
   ],
   "source": [
    "diamonds_predict.head()"
   ]
  },
  {
   "cell_type": "markdown",
   "metadata": {},
   "source": [
    "# Split train and test"
   ]
  },
  {
   "cell_type": "code",
   "execution_count": 5,
   "metadata": {},
   "outputs": [],
   "source": [
    "from sklearn.model_selection import train_test_split\n",
    "\n",
    "X_train, X_test, y_train, y_test = train_test_split(diamonds_train, diamonds_train_price, test_size=0.03)"
   ]
  },
  {
   "cell_type": "code",
   "execution_count": 6,
   "metadata": {},
   "outputs": [
    {
     "data": {
      "text/html": [
       "<div>\n",
       "<style scoped>\n",
       "    .dataframe tbody tr th:only-of-type {\n",
       "        vertical-align: middle;\n",
       "    }\n",
       "\n",
       "    .dataframe tbody tr th {\n",
       "        vertical-align: top;\n",
       "    }\n",
       "\n",
       "    .dataframe thead th {\n",
       "        text-align: right;\n",
       "    }\n",
       "</style>\n",
       "<table border=\"1\" class=\"dataframe\">\n",
       "  <thead>\n",
       "    <tr style=\"text-align: right;\">\n",
       "      <th></th>\n",
       "      <th>carat</th>\n",
       "      <th>cut_numeric</th>\n",
       "      <th>color_numeric</th>\n",
       "      <th>clarity_numeric</th>\n",
       "      <th>depth</th>\n",
       "      <th>table</th>\n",
       "      <th>x</th>\n",
       "      <th>y</th>\n",
       "      <th>z</th>\n",
       "    </tr>\n",
       "  </thead>\n",
       "  <tbody>\n",
       "    <tr>\n",
       "      <th>34266</th>\n",
       "      <td>-1.051355</td>\n",
       "      <td>0.086012</td>\n",
       "      <td>-0.236447</td>\n",
       "      <td>0.574315</td>\n",
       "      <td>-1.500091</td>\n",
       "      <td>0.691721</td>\n",
       "      <td>-1.239123</td>\n",
       "      <td>-1.175625</td>\n",
       "      <td>-1.321466</td>\n",
       "    </tr>\n",
       "    <tr>\n",
       "      <th>7579</th>\n",
       "      <td>-1.009060</td>\n",
       "      <td>0.982588</td>\n",
       "      <td>-0.236447</td>\n",
       "      <td>-0.641579</td>\n",
       "      <td>-0.172337</td>\n",
       "      <td>-1.097476</td>\n",
       "      <td>-1.185613</td>\n",
       "      <td>-1.123499</td>\n",
       "      <td>-1.152344</td>\n",
       "    </tr>\n",
       "    <tr>\n",
       "      <th>12613</th>\n",
       "      <td>-0.903321</td>\n",
       "      <td>-0.810564</td>\n",
       "      <td>-0.236447</td>\n",
       "      <td>-0.641579</td>\n",
       "      <td>-1.220564</td>\n",
       "      <td>-0.202877</td>\n",
       "      <td>-0.944814</td>\n",
       "      <td>-0.897621</td>\n",
       "      <td>-1.025503</td>\n",
       "    </tr>\n",
       "    <tr>\n",
       "      <th>23024</th>\n",
       "      <td>1.507510</td>\n",
       "      <td>-0.810564</td>\n",
       "      <td>0.940769</td>\n",
       "      <td>-1.249527</td>\n",
       "      <td>0.386717</td>\n",
       "      <td>2.033618</td>\n",
       "      <td>1.266965</td>\n",
       "      <td>1.326412</td>\n",
       "      <td>1.342200</td>\n",
       "    </tr>\n",
       "    <tr>\n",
       "      <th>3777</th>\n",
       "      <td>-0.501516</td>\n",
       "      <td>0.086012</td>\n",
       "      <td>1.529377</td>\n",
       "      <td>-0.033632</td>\n",
       "      <td>-0.451864</td>\n",
       "      <td>0.244422</td>\n",
       "      <td>-0.347277</td>\n",
       "      <td>-0.376363</td>\n",
       "      <td>-0.405390</td>\n",
       "    </tr>\n",
       "  </tbody>\n",
       "</table>\n",
       "</div>"
      ],
      "text/plain": [
       "          carat  cut_numeric  color_numeric  clarity_numeric     depth  \\\n",
       "34266 -1.051355     0.086012      -0.236447         0.574315 -1.500091   \n",
       "7579  -1.009060     0.982588      -0.236447        -0.641579 -0.172337   \n",
       "12613 -0.903321    -0.810564      -0.236447        -0.641579 -1.220564   \n",
       "23024  1.507510    -0.810564       0.940769        -1.249527  0.386717   \n",
       "3777  -0.501516     0.086012       1.529377        -0.033632 -0.451864   \n",
       "\n",
       "          table         x         y         z  \n",
       "34266  0.691721 -1.239123 -1.175625 -1.321466  \n",
       "7579  -1.097476 -1.185613 -1.123499 -1.152344  \n",
       "12613 -0.202877 -0.944814 -0.897621 -1.025503  \n",
       "23024  2.033618  1.266965  1.326412  1.342200  \n",
       "3777   0.244422 -0.347277 -0.376363 -0.405390  "
      ]
     },
     "execution_count": 6,
     "metadata": {},
     "output_type": "execute_result"
    }
   ],
   "source": [
    "X_train.head()"
   ]
  },
  {
   "cell_type": "code",
   "execution_count": 7,
   "metadata": {},
   "outputs": [
    {
     "data": {
      "text/plain": [
       "(1214, 1)"
      ]
     },
     "execution_count": 7,
     "metadata": {},
     "output_type": "execute_result"
    }
   ],
   "source": [
    "y_test.shape"
   ]
  },
  {
   "cell_type": "markdown",
   "metadata": {},
   "source": [
    "# BaggingRegressor"
   ]
  },
  {
   "cell_type": "code",
   "execution_count": 8,
   "metadata": {},
   "outputs": [],
   "source": [
    "from sklearn.ensemble import BaggingRegressor"
   ]
  },
  {
   "cell_type": "code",
   "execution_count": 9,
   "metadata": {},
   "outputs": [],
   "source": [
    "reg = BaggingRegressor(n_estimators=14)"
   ]
  },
  {
   "cell_type": "code",
   "execution_count": 10,
   "metadata": {},
   "outputs": [
    {
     "name": "stderr",
     "output_type": "stream",
     "text": [
      "/home/must4in3/anaconda3/lib/python3.7/site-packages/sklearn/ensemble/_bagging.py:399: DataConversionWarning: A column-vector y was passed when a 1d array was expected. Please change the shape of y to (n_samples, ), for example using ravel().\n",
      "  return column_or_1d(y, warn=True)\n"
     ]
    },
    {
     "data": {
      "text/plain": [
       "BaggingRegressor(base_estimator=None, bootstrap=True, bootstrap_features=False,\n",
       "                 max_features=1.0, max_samples=1.0, n_estimators=14,\n",
       "                 n_jobs=None, oob_score=False, random_state=None, verbose=0,\n",
       "                 warm_start=False)"
      ]
     },
     "execution_count": 10,
     "metadata": {},
     "output_type": "execute_result"
    }
   ],
   "source": [
    "reg.fit(X_train, y_train)"
   ]
  },
  {
   "cell_type": "code",
   "execution_count": 11,
   "metadata": {},
   "outputs": [],
   "source": [
    "y_pred_BR= reg.predict(X_test)"
   ]
  },
  {
   "cell_type": "code",
   "execution_count": 12,
   "metadata": {},
   "outputs": [],
   "source": [
    "y_test_BR = y_test.copy()\n",
    "y_test_BR['y']= y_pred_BR"
   ]
  },
  {
   "cell_type": "code",
   "execution_count": 13,
   "metadata": {},
   "outputs": [
    {
     "data": {
      "text/html": [
       "<div>\n",
       "<style scoped>\n",
       "    .dataframe tbody tr th:only-of-type {\n",
       "        vertical-align: middle;\n",
       "    }\n",
       "\n",
       "    .dataframe tbody tr th {\n",
       "        vertical-align: top;\n",
       "    }\n",
       "\n",
       "    .dataframe thead th {\n",
       "        text-align: right;\n",
       "    }\n",
       "</style>\n",
       "<table border=\"1\" class=\"dataframe\">\n",
       "  <thead>\n",
       "    <tr style=\"text-align: right;\">\n",
       "      <th></th>\n",
       "      <th>price</th>\n",
       "      <th>y</th>\n",
       "      <th>Price-y</th>\n",
       "    </tr>\n",
       "  </thead>\n",
       "  <tbody>\n",
       "    <tr>\n",
       "      <th>count</th>\n",
       "      <td>1214.000000</td>\n",
       "      <td>1214.000000</td>\n",
       "      <td>1214.000000</td>\n",
       "    </tr>\n",
       "    <tr>\n",
       "      <th>mean</th>\n",
       "      <td>4000.829489</td>\n",
       "      <td>3974.632542</td>\n",
       "      <td>274.247583</td>\n",
       "    </tr>\n",
       "    <tr>\n",
       "      <th>std</th>\n",
       "      <td>4042.728394</td>\n",
       "      <td>3955.192456</td>\n",
       "      <td>474.004587</td>\n",
       "    </tr>\n",
       "    <tr>\n",
       "      <th>min</th>\n",
       "      <td>351.000000</td>\n",
       "      <td>384.142857</td>\n",
       "      <td>0.000000</td>\n",
       "    </tr>\n",
       "    <tr>\n",
       "      <th>25%</th>\n",
       "      <td>966.000000</td>\n",
       "      <td>973.357143</td>\n",
       "      <td>33.214286</td>\n",
       "    </tr>\n",
       "    <tr>\n",
       "      <th>50%</th>\n",
       "      <td>2524.500000</td>\n",
       "      <td>2520.892857</td>\n",
       "      <td>101.785714</td>\n",
       "    </tr>\n",
       "    <tr>\n",
       "      <th>75%</th>\n",
       "      <td>5259.000000</td>\n",
       "      <td>5289.285714</td>\n",
       "      <td>293.357143</td>\n",
       "    </tr>\n",
       "    <tr>\n",
       "      <th>max</th>\n",
       "      <td>18745.000000</td>\n",
       "      <td>17931.571429</td>\n",
       "      <td>4185.428571</td>\n",
       "    </tr>\n",
       "  </tbody>\n",
       "</table>\n",
       "</div>"
      ],
      "text/plain": [
       "              price             y      Price-y\n",
       "count   1214.000000   1214.000000  1214.000000\n",
       "mean    4000.829489   3974.632542   274.247583\n",
       "std     4042.728394   3955.192456   474.004587\n",
       "min      351.000000    384.142857     0.000000\n",
       "25%      966.000000    973.357143    33.214286\n",
       "50%     2524.500000   2520.892857   101.785714\n",
       "75%     5259.000000   5289.285714   293.357143\n",
       "max    18745.000000  17931.571429  4185.428571"
      ]
     },
     "execution_count": 13,
     "metadata": {},
     "output_type": "execute_result"
    }
   ],
   "source": [
    "y_test_BR['Price-y'] = abs(y_test_BR['price']- y_test_BR['y'])\n",
    "y_test_BR.describe()"
   ]
  },
  {
   "cell_type": "code",
   "execution_count": 15,
   "metadata": {},
   "outputs": [
    {
     "data": {
      "image/png": "[encoded data removed]",
      "text/plain": [
       "<Figure size 432x288 with 1 Axes>"
      ]
     },
     "metadata": {},
     "output_type": "display_data"
    }
   ],
   "source": [
    "sns.set()\n",
    "fig, ax = plt.subplots()\n",
    "ax.scatter( y_test_BR['price'], y_test_BR['y'], alpha=.3)\n",
    "ax.plot([y_test_BR.min(), y_test_BR.max()], [y_test_BR.min(), y_test_BR.max()], 'k--', lw=4)\n",
    "ax.set_xlabel('measured')\n",
    "ax.set_ylabel('predicted')\n",
    "plt.show()"
   ]
  },
  {
   "cell_type": "markdown",
   "metadata": {},
   "source": [
    "# Export"
   ]
  },
  {
   "cell_type": "code",
   "execution_count": null,
   "metadata": {},
   "outputs": [],
   "source": [
    "df_y = pd.DataFrame(y_pred_BR)"
   ]
  },
  {
   "cell_type": "code",
   "execution_count": null,
   "metadata": {},
   "outputs": [],
   "source": [
    "df_y['id'] = df_y.index"
   ]
  },
  {
   "cell_type": "code",
   "execution_count": null,
   "metadata": {},
   "outputs": [],
   "source": [
    "df_y['price'] = df_y[0]"
   ]
  },
  {
   "cell_type": "code",
   "execution_count": null,
   "metadata": {},
   "outputs": [],
   "source": [
    "df_y = df_y[['id', 'price']]"
   ]
  },
  {
   "cell_type": "code",
   "execution_count": null,
   "metadata": {},
   "outputs": [],
   "source": [
    "df_y.to_csv('BaggingRegressor_nestimator_14.csv', index=False)"
   ]
  },
  {
   "cell_type": "code",
   "execution_count": 14,
   "metadata": {},
   "outputs": [
    {
     "name": "stdout",
     "output_type": "stream",
     "text": [
      "RMSE=547.4550303837045\n"
     ]
    }
   ],
   "source": [
    "from sklearn.metrics import mean_squared_error, r2_score\n",
    "print(f'RMSE={mean_squared_error(y_pred_BR, y_test)**0.5}')"
   ]
  },
  {
   "cell_type": "code",
   "execution_count": null,
   "metadata": {},
   "outputs": [],
   "source": []
  }
 ],
 "metadata": {
  "kernelspec": {
   "display_name": "Python 3",
   "language": "python",
   "name": "python3"
  },
  "language_info": {
   "codemirror_mode": {
    "name": "ipython",
    "version": 3
   },
   "file_extension": ".py",
   "mimetype": "text/x-python",
   "name": "python",
   "nbconvert_exporter": "python",
   "pygments_lexer": "ipython3",
   "version": "3.7.6"
  }
 },
 "nbformat": 4,
 "nbformat_minor": 4
}
